{
 "cells": [
  {
   "cell_type": "code",
   "execution_count": 23,
   "metadata": {},
   "outputs": [
    {
     "data": {
      "text/plain": [
       "'sllikswp'"
      ]
     },
     "execution_count": 23,
     "metadata": {},
     "output_type": "execute_result"
    }
   ],
   "source": [
    "\"\"\"\n",
    "Q1) Write a code to reverse a string.\n",
    "Answer-\n",
    "\"\"\"\n",
    "\n",
    "def reverse_str(string):\n",
    "    return string[::-1]\n",
    "\n",
    "reverse_str(\"pwskills\")\n",
    "\n",
    "#The [::-1] slice reverses the string by stepping backwards from the end."
   ]
  },
  {
   "cell_type": "code",
   "execution_count": 22,
   "metadata": {},
   "outputs": [
    {
     "data": {
      "text/plain": [
       "3"
      ]
     },
     "execution_count": 22,
     "metadata": {},
     "output_type": "execute_result"
    }
   ],
   "source": [
    "\"\"\"\n",
    "Q2) Write a code to count the number of vowels in a string.\n",
    "Answer-\n",
    "\"\"\"\n",
    "def vowels(s):\n",
    "    vowel = []\n",
    "    for i in s:\n",
    "        if i in \"aeiouAEIOU\":\n",
    "            vowel.append(i)\n",
    "    return len(vowel)\n",
    "\n",
    "\n",
    "vowels(\"Varshitha\")\n"
   ]
  },
  {
   "cell_type": "code",
   "execution_count": 28,
   "metadata": {},
   "outputs": [
    {
     "name": "stdout",
     "output_type": "stream",
     "text": [
      "True\n",
      "False\n"
     ]
    }
   ],
   "source": [
    "\"\"\"\n",
    "Q3) Write a code to check if a given string is a palindrome or not.\n",
    "Answer-\n",
    "\"\"\"\n",
    "\n",
    "def palindrome(string):\n",
    "    return string == string[::-1]    \n",
    "\n",
    "print(palindrome(\"radar\"))\n",
    "print(palindrome(\"radars\"))"
   ]
  },
  {
   "cell_type": "code",
   "execution_count": 42,
   "metadata": {},
   "outputs": [
    {
     "name": "stdout",
     "output_type": "stream",
     "text": [
      "True\n",
      "True\n",
      "False\n"
     ]
    }
   ],
   "source": [
    "\"\"\"\n",
    "Q4) Write a code to check if two given strings are anagrams of each other.\n",
    "Answer-\n",
    "\"\"\"\n",
    "def anagrams(a, b):\n",
    "    return sorted(a) == sorted(b)\n",
    "\n",
    "print(anagrams(\"gum\", \"mug\"))\n",
    "print(anagrams(\"hear\", \"hare\"))\n",
    "print(anagrams(\"ear\", \"hare\"))\n"
   ]
  },
  {
   "cell_type": "code",
   "execution_count": 63,
   "metadata": {},
   "outputs": [
    {
     "name": "stdout",
     "output_type": "stream",
     "text": [
      "[0, 6]\n",
      "[4, 7, 14]\n",
      "[-1]\n"
     ]
    }
   ],
   "source": [
    "\"\"\"\n",
    "Q5) Write a code to find all occurrences of a given substring within another string.\n",
    "Answer-\n",
    "\"\"\"\n",
    "\n",
    "def substring_occurence(sub_string, string):\n",
    "    occurence = []\n",
    "    start = 0\n",
    "    while True:\n",
    "        start = string.find(sub_string, start)\n",
    "\n",
    "        if start == -1:\n",
    "            break\n",
    "\n",
    "        occurence.append(start)\n",
    "        start += 1\n",
    "    \n",
    "    return occurence if occurence else [-1]\n",
    "\n",
    "\n",
    "print(substring_occurence(\"hello\", \"hello hello world\"))\n",
    "print(substring_occurence(\"o\", \"hello world from india\"))\n",
    "print(substring_occurence(\"doll\", \"hello world\"))"
   ]
  },
  {
   "cell_type": "code",
   "execution_count": 13,
   "metadata": {},
   "outputs": [
    {
     "data": {
      "text/plain": [
       "'n3v3'"
      ]
     },
     "execution_count": 13,
     "metadata": {},
     "output_type": "execute_result"
    }
   ],
   "source": [
    "\"\"\"\n",
    "Q6) Write a code to perform basic string compression using the counts of repeated characters.\n",
    "Answer-\n",
    "\"\"\"\n",
    "def string_compression(string):\n",
    "    compressed = \"\"\n",
    "    count = 1\n",
    "    for i in range(1, len(string) + 1):\n",
    "        if i < len(string) and string[i] == string[i - 1]:\n",
    "            count += 1\n",
    "\n",
    "        else:\n",
    "            compressed += string[i - 1]  + str(count)\n",
    "            count = 1\n",
    "\n",
    "    return compressed\n",
    "\n",
    "string_compression(\"nnnvvv\")"
   ]
  },
  {
   "cell_type": "code",
   "execution_count": 34,
   "metadata": {},
   "outputs": [
    {
     "name": "stdout",
     "output_type": "stream",
     "text": [
      "False\n",
      "True\n",
      "True\n",
      "False\n"
     ]
    }
   ],
   "source": [
    "\"\"\"\n",
    "Q7) Write a code to determine if a string has all unique characters.\n",
    "Answer-\n",
    "\"\"\"\n",
    "def unique_char(char):\n",
    "    return len(set(char)) == len(char)\n",
    "\n",
    "\n",
    "print(unique_char(\"varshitha\"))\n",
    "print(unique_char(\"naresh\"))\n",
    "print(unique_char(\"Gopal\"))\n",
    "print(unique_char(\"Yashodha\"))"
   ]
  },
  {
   "cell_type": "code",
   "execution_count": 42,
   "metadata": {},
   "outputs": [
    {
     "name": "stdout",
     "output_type": "stream",
     "text": [
      "DATA SCIENCE\n",
      "data science\n"
     ]
    }
   ],
   "source": [
    "\"\"\"\n",
    "Q8) Write a code to convert a given string to uppercase or lowercase.\n",
    "Answer-\n",
    "\"\"\"\n",
    "def uppercase(string):\n",
    "    return string.upper()\n",
    "\n",
    "def lowercase(string):\n",
    "    return string.lower()\n",
    "\n",
    "\n",
    "print(uppercase(\"data Science\"))\n",
    "print(lowercase(\"data Science\"))"
   ]
  },
  {
   "cell_type": "code",
   "execution_count": 71,
   "metadata": {},
   "outputs": [
    {
     "name": "stdout",
     "output_type": "stream",
     "text": [
      "6\n"
     ]
    }
   ],
   "source": [
    "\"\"\"\n",
    "Q9) Write a code to count the number of words in a string.\n",
    "Answer-\n",
    "\"\"\"\n",
    "def no_of_words(string):\n",
    "    return len(string.split())\n",
    "    \n",
    "print(no_of_words(\"i am a student at pwskills\"))"
   ]
  },
  {
   "cell_type": "code",
   "execution_count": 94,
   "metadata": {},
   "outputs": [
    {
     "data": {
      "text/plain": [
       "'pwskills'"
      ]
     },
     "execution_count": 94,
     "metadata": {},
     "output_type": "execute_result"
    }
   ],
   "source": [
    "\"\"\"\n",
    "Q10) Write a code to concatenate two strings without using the + operator.\n",
    "Answer-\n",
    "\"\"\"\n",
    "def str_concatenate(strings):\n",
    "    return \"\".join(strings)\n",
    "\n",
    "str_concatenate([\"pw\",\"skills\"])"
   ]
  },
  {
   "cell_type": "code",
   "execution_count": 138,
   "metadata": {},
   "outputs": [
    {
     "name": "stdout",
     "output_type": "stream",
     "text": [
      "['hello', 2.5, 'hello', 'world']\n",
      "[1, 2.5, 1, 'world']\n"
     ]
    }
   ],
   "source": [
    "\"\"\"\n",
    "Q11) Write a code to remove all occurrences of a specific element from a list.\n",
    "Answer-\n",
    "\"\"\"\n",
    "el = [\"hello\", 1, 2.5, 1, \"hello\", \"world\"]\n",
    "\n",
    "def remove_occurence(args, el):\n",
    "    return[i for i in args if i != el]\n",
    "\n",
    "print(remove_occurence([\"hello\", 1, 2.5, 1, \"hello\", \"world\"], el = 1))\n",
    "print(remove_occurence([\"hello\", 1, 2.5, 1, \"hello\", \"world\"], el = \"hello\"))"
   ]
  },
  {
   "cell_type": "code",
   "execution_count": 178,
   "metadata": {},
   "outputs": [
    {
     "name": "stdout",
     "output_type": "stream",
     "text": [
      "65\n",
      "11\n",
      "Please enter atleast 2 unique numbers\n"
     ]
    }
   ],
   "source": [
    "\"\"\"\n",
    "Q12) Implement a code to find the second largest number in a given list of integers.\n",
    "Answer-\n",
    "\"\"\"\n",
    "def second_large_no(n):\n",
    "    s = sorted(set(n)) \n",
    "    if len(s) >= 2:\n",
    "        return s[-2]\n",
    "    \n",
    "    else:\n",
    "        return \"Please enter atleast 2 unique numbers\"\n",
    "\n",
    "print(second_large_no([10,2,8,99,34,65,0,4,-8,-100]))\n",
    "print(second_large_no([10,10,11,23,23]))\n",
    "print(second_large_no([10, 10]))"
   ]
  },
  {
   "cell_type": "code",
   "execution_count": 206,
   "metadata": {},
   "outputs": [
    {
     "name": "stdout",
     "output_type": "stream",
     "text": [
      "{'cow': 1, 'dog': 3, 'pig': 1, 'cat': 2}\n"
     ]
    }
   ],
   "source": [
    "\"\"\"\n",
    "Q13) Create a code to count the occurrences of each element in a list and return a dictionary with elements as keys and their counts as \n",
    "     values.\n",
    "Answer-\n",
    "\"\"\"\n",
    "def el_count(lis):\n",
    "    s = set(lis)\n",
    "    d = {}\n",
    "    for i in s:\n",
    "        d[i] = lis.count(i)\n",
    "\n",
    "    return d\n",
    "\n",
    "print(el_count([\"dog\", \"cat\", \"dog\", \"cow\", \"cat\", \"dog\", \"pig\"]))\n"
   ]
  },
  {
   "cell_type": "code",
   "execution_count": 1,
   "metadata": {},
   "outputs": [
    {
     "name": "stdout",
     "output_type": "stream",
     "text": [
      "{'dog': 3, 'cat': 2, 'cow': 1, 'pig': 1}\n"
     ]
    }
   ],
   "source": [
    "from collections import Counter\n",
    "\n",
    "def el_count(lis):\n",
    "    return dict(Counter(lis))\n",
    "\n",
    "print(el_count([\"dog\", \"cat\", \"dog\", \"cow\", \"cat\", \"dog\", \"pig\"]))\n"
   ]
  },
  {
   "cell_type": "code",
   "execution_count": 42,
   "metadata": {},
   "outputs": [
    {
     "name": "stdout",
     "output_type": "stream",
     "text": [
      "['ashok sundari', 'subramanya', 'ganesha', 'parvathi', 'shiva']\n"
     ]
    }
   ],
   "source": [
    "\"\"\"\n",
    "Q14) Write a code to reverse a list in-place without using any built-in reverse functions.\n",
    "Answer-\n",
    "\"\"\"\n",
    "my_list = [\"shiva\", \"parvathi\", \"ganesha\", \"subramanya\", \"ashok sundari\"]\n",
    "my_list[:] = my_list[::-1]\n",
    "print(my_list)"
   ]
  },
  {
   "cell_type": "code",
   "execution_count": 34,
   "metadata": {},
   "outputs": [
    {
     "data": {
      "text/plain": [
       "[9, 2, 3, 5, 4, 6]"
      ]
     },
     "execution_count": 34,
     "metadata": {},
     "output_type": "execute_result"
    }
   ],
   "source": [
    "\"\"\"\n",
    "Q15) Implement a code to find and remove duplicates from a list while preserving the original order of elements.\n",
    "Answer-\n",
    "\"\"\"\n",
    "def remove_duplicates(lst):\n",
    "    s = set()\n",
    "    lst1 = []\n",
    "    for i in lst:\n",
    "        if i not in s:\n",
    "            s.add(i)\n",
    "            lst1.append(i)\n",
    "    return lst1\n",
    "\n",
    "remove_duplicates([9,2,2,3,5,4,6,3])"
   ]
  },
  {
   "cell_type": "code",
   "execution_count": 46,
   "metadata": {},
   "outputs": [
    {
     "name": "stdout",
     "output_type": "stream",
     "text": [
      "True\n",
      "False\n"
     ]
    }
   ],
   "source": [
    "\"\"\"\n",
    "Q16) Create a code to check if a given list is sorted (either in ascending or descending order) or not.\n",
    "Answer-\n",
    "\"\"\"\n",
    "def sorted_list(n):\n",
    "    return sorted(n) == n or sorted(n, reverse= True) == n\n",
    "\n",
    "print(sorted_list([1,2,3,4,5]))\n",
    "print(sorted_list([\"tamil nadu\", \"telangana\", \"karnataka\", \"maharashtra\"]))"
   ]
  },
  {
   "cell_type": "code",
   "execution_count": 53,
   "metadata": {},
   "outputs": [
    {
     "data": {
      "text/plain": [
       "[1, 2, 3, 4, 5, 6, 7, 8, 9, 10]"
      ]
     },
     "execution_count": 53,
     "metadata": {},
     "output_type": "execute_result"
    }
   ],
   "source": [
    "\"\"\"\n",
    "Q17) Write a code to merge two sorted lists into a single sorted list.\n",
    "Answer-\n",
    "\"\"\"\n",
    "def sorted_lists(list1, list2):\n",
    "    return sorted(list1 + list2)\n",
    "\n",
    "sorted_lists([10,9,8,7,6], [1,2,3,4,5])\n",
    "    "
   ]
  },
  {
   "cell_type": "code",
   "execution_count": 69,
   "metadata": {},
   "outputs": [
    {
     "data": {
      "text/plain": [
       "[104, 103]"
      ]
     },
     "execution_count": 69,
     "metadata": {},
     "output_type": "execute_result"
    }
   ],
   "source": [
    "\"\"\"\n",
    "Q18) Implement a code to find the intersection of two given lists.\n",
    "\n",
    "\"\"\"\n",
    "def intersection(l1, l2):    \n",
    "    return list(set(l1) & set(l2))\n",
    "\n",
    "intersection([101, 102, 103, 104], [103, 104, 105, 106])\n",
    "    "
   ]
  },
  {
   "cell_type": "code",
   "execution_count": 4,
   "metadata": {},
   "outputs": [
    {
     "data": {
      "text/plain": [
       "[101, 102, 103, 104, 105, 106]"
      ]
     },
     "execution_count": 4,
     "metadata": {},
     "output_type": "execute_result"
    }
   ],
   "source": [
    "\"\"\"\n",
    "Q19) Create a code to find the union of two lists without duplicates.\n",
    "Answer-\n",
    "\"\"\"\n",
    "def union(l1, l2):    \n",
    "    return list(set(l1) | set(l2))\n",
    "\n",
    "union([101, 102, 103, 104], [103, 104, 105, 106])"
   ]
  },
  {
   "cell_type": "code",
   "execution_count": 40,
   "metadata": {},
   "outputs": [
    {
     "name": "stdout",
     "output_type": "stream",
     "text": [
      "[20, 27, 14, 63, 52]\n"
     ]
    }
   ],
   "source": [
    "\"\"\"\n",
    "Q20) Write a code to shuffle a given list randomly without using any built-in shuffle functions.\n",
    "Answer-\n",
    "\"\"\"\n",
    "import random\n",
    "\n",
    "def list_shuffle(l):\n",
    "    shuffled_list = []\n",
    "    while l:\n",
    "        shuffled_list.append(l.pop(random.randint(0, len(l) - 1)))\n",
    "    return shuffled_list\n",
    "\n",
    "print(list_shuffle([52,63,14,20,27]))\n"
   ]
  },
  {
   "cell_type": "code",
   "execution_count": 47,
   "metadata": {},
   "outputs": [
    {
     "name": "stdout",
     "output_type": "stream",
     "text": [
      "(1, 5)\n"
     ]
    }
   ],
   "source": [
    "\"\"\"\n",
    "Q21) Write a code that takes two tuples as input and returns a new tuple containing elements that are common to both input tuples.\n",
    "Answer-\n",
    "\"\"\"\n",
    "def common_el(t1, t2):\n",
    "    return tuple(set(t1) & set(t2))\n",
    "\n",
    "print(common_el((1,5,7,10), (5,4,2,1)))\n"
   ]
  },
  {
   "cell_type": "code",
   "execution_count": 36,
   "metadata": {},
   "outputs": [
    {
     "name": "stdout",
     "output_type": "stream",
     "text": [
      "set1 = {10, 11, 12} \n",
      "set2 = {12, 13, 14} \n",
      "Intersection of set1 and set2 = {12}\n"
     ]
    }
   ],
   "source": [
    "\"\"\"\n",
    "Q22) Create a code that prompts the user to enter two sets of integers separated by commas. Then, print the intersection of these two sets.\n",
    "Answer-\n",
    "\"\"\"\n",
    "def intersection_of_two_sets():\n",
    "    set1 = set(map(int, input(\"Enter first set of integers separated by comma: \").split(\",\")))\n",
    "    set2 = set(map(int, input(\"Enter second set of integers separated by comma: \").split(\",\")))\n",
    "    print(f\"set1 = {set1} \\nset2 = {set2} \\nIntersection of set1 and set2 = {set1 & set2}\")\n",
    "\n",
    "intersection_of_two_sets()\n"
   ]
  },
  {
   "cell_type": "code",
   "execution_count": 21,
   "metadata": {},
   "outputs": [
    {
     "name": "stdout",
     "output_type": "stream",
     "text": [
      "(10, 11, 12, 'hi', 15, 'hello', 16, 17)\n"
     ]
    }
   ],
   "source": [
    "\"\"\"\n",
    "Q23) Write a code to concatenate two tuples. The function should take two tuples as input and return a new tuple containing elements from both\n",
    "     input tuples.\n",
    "Answer-\n",
    "\"\"\"\n",
    "def concatenate_tuple(tuple1, tuple2):\n",
    "    return tuple(tuple1 + tuple2)\n",
    "\n",
    "print(concatenate_tuple((10,11,12,\"hi\"), (15,\"hello\",16,17)))"
   ]
  },
  {
   "cell_type": "code",
   "execution_count": 34,
   "metadata": {},
   "outputs": [
    {
     "name": "stdout",
     "output_type": "stream",
     "text": [
      "set1 = {'1', '2'} \n",
      "set2 = {'3', '2'} \n",
      "elements in set1 but not set2 = {'1'}\n"
     ]
    }
   ],
   "source": [
    "\"\"\"\n",
    "Q24) Develop a code that prompts the user to input two sets of strings. Then, print the elements that are present in the first set but not \n",
    "     in the second set.\n",
    "Answer-\n",
    "\"\"\"\n",
    "def difference_of_sets():\n",
    "    set1 = set(input(\"Enter first set of integers separated by comma: \").split(\",\"))\n",
    "    set2 = set(input(\"Enter second set of integers separated by comma: \").split(\",\"))\n",
    "    print(f\"set1 = {set1} \\nset2 = {set2} \\nElements in set1 but not set2 = {set1 - set2}\")\n",
    "\n",
    "difference_of_sets()"
   ]
  },
  {
   "cell_type": "code",
   "execution_count": 39,
   "metadata": {},
   "outputs": [
    {
     "data": {
      "text/plain": [
       "(12, 13, 14)"
      ]
     },
     "execution_count": 39,
     "metadata": {},
     "output_type": "execute_result"
    }
   ],
   "source": [
    "\"\"\"\n",
    "Q25) Create a code that takes a tuple and two integers as input. The function should return a new tuple containing elements from the original\n",
    "     tuple within the specified range of indices.\n",
    "Answer-\n",
    "\"\"\"\n",
    "def elements_in_tuple(tup, start, end):\n",
    "    return tup[start : end]\n",
    "\n",
    "elements_in_tuple((10,11,12,13,14,15), 2, 5)"
   ]
  },
  {
   "cell_type": "code",
   "execution_count": 45,
   "metadata": {},
   "outputs": [
    {
     "name": "stdout",
     "output_type": "stream",
     "text": [
      "set1 = {'mango', 'banana', 'apple'} \n",
      "set2 = {'mango', 'grapes', 'cherry'} \n",
      "Union of set1 and set2 = {'grapes', 'banana', 'mango', 'cherry', 'apple'}\n"
     ]
    }
   ],
   "source": [
    "\"\"\"\n",
    "Q26) Write a code that prompts the user to input two sets of characters. Then, print the union of these two sets.\n",
    "Answer-\n",
    "\"\"\"\n",
    "def union_of_sets():\n",
    "    set1 = set(input(\"Enter first set of characters: \").split(\",\"))\n",
    "    set2 = set(input(\"Enter second set of characters: \").split(\",\"))\n",
    "\n",
    "    print(f\"set1 = {set1} \\nset2 = {set2} \\nUnion of set1 and set2 = {set1 | set2}\")\n",
    "\n",
    "union_of_sets()\n"
   ]
  },
  {
   "cell_type": "code",
   "execution_count": 49,
   "metadata": {},
   "outputs": [
    {
     "name": "stdout",
     "output_type": "stream",
     "text": [
      "Max value = 6 \n",
      "Min value = 2\n"
     ]
    }
   ],
   "source": [
    "\"\"\"\n",
    "Q27) Develop a code that takes a tuple of integers as input. The function should return the maximum and minimum values from the tuple \n",
    "     using tuple unpacking.\n",
    "Answer-\n",
    "\"\"\"\n",
    "def min_max(tuple_of_integers):\n",
    "    max_value = max(tuple_of_integers)\n",
    "    min_value = min(tuple_of_integers)\n",
    "    return max_value, min_value \n",
    "\n",
    "input_tuple = (2,3,5,6)\n",
    "\n",
    "max_value, min_value = min_max(input_tuple)\n",
    "print(f\"Max value = {max_value} \\nMin value = {min_value}\")\n"
   ]
  },
  {
   "cell_type": "code",
   "execution_count": 50,
   "metadata": {},
   "outputs": [
    {
     "name": "stdout",
     "output_type": "stream",
     "text": [
      "set1 = {121, 122, 123} \n",
      "set2 = {122, 123, 124} \n",
      "Union = {121, 122, 123, 124} \n",
      "Intersection = {122, 123} \n",
      "Difference = {121}\n"
     ]
    }
   ],
   "source": [
    "\"\"\"\n",
    "Q28) Create a code that defines two sets of integers. Then, print the union, intersection, and difference of these two sets.\n",
    "Answer-\n",
    "\"\"\"\n",
    "def types_of_set(set1, set2):\n",
    "    s1 = set(set1)\n",
    "    s2 = set(set2)\n",
    "    print(f\"set1 = {s1} \\nset2 = {s2} \\nUnion = {s1 | s2} \\nIntersection = {s1 & s2} \\nDifference = {s1 - s2}\")\n",
    "\n",
    "types_of_set({121, 122, 123}, {122, 123, 124})"
   ]
  },
  {
   "cell_type": "code",
   "execution_count": 53,
   "metadata": {},
   "outputs": [
    {
     "name": "stdout",
     "output_type": "stream",
     "text": [
      "The element 5 occurs 3 times in the tuple.\n"
     ]
    }
   ],
   "source": [
    "\"\"\"\n",
    "Q29) Write a code that takes a tuple and an element as input. The function should return the count of occurrences of the given element in \n",
    "     the tuple.\n",
    "Answer-\n",
    "\"\"\"\n",
    "def el_occurence(tup, el):\n",
    "    print(f\"The element {el} occurs {tup.count(el)} times in the tuple.\")\n",
    "\n",
    "el_occurence((2, 5, 3, 5, 9, 8, 6, 3, 5, 6), 5)\n"
   ]
  },
  {
   "cell_type": "code",
   "execution_count": 57,
   "metadata": {},
   "outputs": [
    {
     "name": "stdout",
     "output_type": "stream",
     "text": [
      "set1 = {'carrot', 'potato', 'tomato'} \n",
      "set2 = {'capsicum', 'cucumber', 'tomato'} \n",
      "Symmetric difference = {'carrot', 'cucumber', 'potato', 'capsicum'}\n"
     ]
    }
   ],
   "source": [
    "\"\"\"\n",
    "Q30) Develop a code that prompts the user to input two sets of strings. Then, print the symmetric difference of these two sets.\n",
    "Answer- \n",
    "\"\"\"\n",
    "def symmetric_difference_of_sets():\n",
    "    set1 = set(input(\"Enter first set: \").split(\",\"))\n",
    "    set2 = set(input(\"Enter second set: \").split(\",\"))\n",
    "    print(f\"set1 = {set1} \\nset2 = {set2} \\nSymmetric difference = {set1 ^ set2}\")\n",
    "\n",
    "symmetric_difference_of_sets()\n"
   ]
  },
  {
   "cell_type": "code",
   "execution_count": 61,
   "metadata": {},
   "outputs": [
    {
     "data": {
      "text/plain": [
       "{'jan': 2, 'june': 3, 'march': 2, 'july': 1}"
      ]
     },
     "execution_count": 61,
     "metadata": {},
     "output_type": "execute_result"
    }
   ],
   "source": [
    "\"\"\"\n",
    "Q31) Write a code that takes a list of words as input and returns a dictionary where the keys are unique words and the values are the \n",
    "     frequencies of those words in the input list.\n",
    "Answer-\n",
    "\"\"\"\n",
    "def frequency_of_word_list(word_list):\n",
    "    dictionary = {}\n",
    "    s = set(word_list)\n",
    "    for i in s:\n",
    "        dictionary[i] = word_list.count(i)\n",
    "    return dictionary\n",
    "\n",
    "frequency_of_word_list([\"jan\", \"june\", \"march\", \"june\", \"june\", \"july\", \"jan\", \"march\"])\n"
   ]
  },
  {
   "cell_type": "code",
   "execution_count": 75,
   "metadata": {},
   "outputs": [
    {
     "data": {
      "text/plain": [
       "{'pen': 6, 'book': 10, 'pencil': 5, 'eraser': 3}"
      ]
     },
     "execution_count": 75,
     "metadata": {},
     "output_type": "execute_result"
    }
   ],
   "source": [
    "\"\"\"\n",
    "Q32) Write a code that takes two dictionaries as input and merges them into a single dictionary. If there are common keys, the values \n",
    "     should be added together.\n",
    "Answer-\n",
    "\"\"\"\n",
    "def merge_dictionary(dict1, dict2):\n",
    "    new_dict = dict1.copy()\n",
    "    for key, value in dict2.items():\n",
    "        if key in new_dict:\n",
    "            new_dict[key] += value \n",
    "\n",
    "        else:\n",
    "            new_dict[key] = value\n",
    "\n",
    "    return new_dict  \n",
    "\n",
    "merge_dictionary({\"pen\" : 6, \"book\" : 4, \"pencil\" : 2}, {\"book\" : 6, \"pencil\" : 3, \"eraser\" : 3})"
   ]
  },
  {
   "cell_type": "code",
   "execution_count": 1,
   "metadata": {},
   "outputs": [
    {
     "name": "stdout",
     "output_type": "stream",
     "text": [
      "{'name': 'kayal', 'BBA': 94, 'height': None}\n"
     ]
    }
   ],
   "source": [
    "\"\"\"\n",
    "Q33) Write a code to access a value in a nested dictionary. The function should take the dictionary and a list of keys as input, and return\n",
    "     the corresponding value. If any of the keys do not exist in the dictionary, the function should return None.\n",
    "Answer-\n",
    "\"\"\"\n",
    "def get_multiple_nested_values(dictionary, keys):\n",
    "    def get_single_value(d, key):\n",
    "        if key in d:\n",
    "            return d[key]\n",
    "        for value in d.values():\n",
    "            if isinstance(value, dict):\n",
    "                result = get_single_value(value, key)\n",
    "                if result is not None:\n",
    "                    return result\n",
    "        return None\n",
    "\n",
    "    return {key: get_single_value(dictionary, key) for key in keys}\n",
    "\n",
    "print(get_multiple_nested_values({\"name\": \"kayal\", \"age\": 25, \"qualification_details\" : {\"PUC\" : 85, \"BBA\" : 94}}, [\"name\", \"BBA\", \"height\"]))"
   ]
  },
  {
   "cell_type": "code",
   "execution_count": 13,
   "metadata": {},
   "outputs": [
    {
     "name": "stdout",
     "output_type": "stream",
     "text": [
      "Ascending order: {'banana': 1, 'orange': 2, 'apple': 3}\n",
      "Descending order: {'apple': 3, 'orange': 2, 'banana': 1}\n"
     ]
    }
   ],
   "source": [
    "\"\"\"\n",
    "Q34) Write a code that takes a dictionary as input and returns a sorted version of it based on the values. You can choose whether to sort \n",
    "     in ascending or descending order&\n",
    "Answer-\n",
    "\"\"\"\n",
    "def sort_dict_by_values(dictionary, reverse=False):\n",
    "    sorted_dict = dict(sorted(dictionary.items(), key=lambda item: item[1], reverse=reverse))\n",
    "    return sorted_dict\n",
    "        \n",
    "sample_dict = {'apple': 3, 'banana': 1, 'orange': 2}\n",
    "print(\"Ascending order:\", sort_dict_by_values(sample_dict)) \n",
    "print(\"Descending order:\", sort_dict_by_values(sample_dict, reverse=True))"
   ]
  },
  {
   "cell_type": "code",
   "execution_count": 15,
   "metadata": {},
   "outputs": [
    {
     "name": "stdout",
     "output_type": "stream",
     "text": [
      "{1: ['a', 'c'], 2: ['b'], 3: ['d']}\n"
     ]
    }
   ],
   "source": [
    "\"\"\"\n",
    "Q35) Write a code that inverts a dictionary, swapping keys and values. Ensure that the inverted dictionary correctly handles cases where\n",
    "     multiple keys have the same value by storing the keys as a list in the inverted dictionary.\n",
    "Answer-\n",
    "\"\"\"\n",
    "def invert_dictionary(dictionary):\n",
    "    inverted_dict = {}\n",
    "    for key, value in dictionary.items():\n",
    "        if value in inverted_dict:\n",
    "            inverted_dict[value].append(key)\n",
    "        else:\n",
    "            inverted_dict[value] = [key]  \n",
    "    return inverted_dict\n",
    "\n",
    "\n",
    "sample_dict = {'a': 1, 'b': 2, 'c': 1, 'd': 3}\n",
    "print(invert_dictionary(sample_dict))"
   ]
  }
 ],
 "metadata": {
  "kernelspec": {
   "display_name": "Python 3",
   "language": "python",
   "name": "python3"
  },
  "language_info": {
   "codemirror_mode": {
    "name": "ipython",
    "version": 3
   },
   "file_extension": ".py",
   "mimetype": "text/x-python",
   "name": "python",
   "nbconvert_exporter": "python",
   "pygments_lexer": "ipython3",
   "version": "3.12.6"
  }
 },
 "nbformat": 4,
 "nbformat_minor": 2
}
